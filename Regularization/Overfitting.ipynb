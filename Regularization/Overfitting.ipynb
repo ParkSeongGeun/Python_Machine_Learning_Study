{
 "cells": [
  {
   "cell_type": "code",
   "execution_count": 1,
   "id": "4dc83674",
   "metadata": {},
   "outputs": [],
   "source": [
    "# 모델이 충분히 복잡하면 과소적합을 줄일 수 있음\n",
    "from sklearn.linear_model import LinearRegression\n",
    "from sklearn.model_selection import train_test_split\n",
    "from sklearn.metrics import mean_squared_error\n",
    "from sklearn.preprocessing import PolynomialFeatures\n",
    "\n",
    "from math import sqrt\n",
    "\n",
    "import numpy as np\n",
    "import pandas as pd\n",
    "\n",
    "ADMISSION_FILE_PATH = '/Users/parkseonggeun/Desktop/admission_data.csv'\n",
    "admission_df = pd.read_csv(ADMISSION_FILE_PATH).drop('Serial No.', axis=1)\n",
    "\n",
    "admission_df.head()\n",
    "\n",
    "X = admission_df.drop(['Chance of Admit '], axis=1)\n",
    "\n",
    "polynomial_transformer = PolynomialFeatures(6)\n",
    "polynomial_features = polynomial_transformer.fit_transform(X.values)\n",
    "features = polynomial_transformer.get_feature_names_out(X.columns)\n",
    "\n",
    "X = pd.DataFrame(polynomial_features, columns = features)\n",
    "X.head()\n",
    "\n",
    "y = admission_df[['Chance of Admit ']]\n",
    "y.head()\n",
    "\n",
    "X_train, X_test, y_train, y_test = train_test_split(X,y,test_size=0.2, random_state=5)\n",
    "\n",
    "model = LinearRegression()\n",
    "model.fit(X_train, y_train)\n",
    "\n",
    "y_train_predict = model.predict(X_train)\n",
    "y_test_predict = model.predict(X_test)\n",
    "\n",
    "mse = mean_squared_error(y_train, y_train_predict)\n",
    "print(\"training set에서의 성능 {0}\".format(sqrt(mse)))\n",
    "print('-----------------------------------')\n",
    "mse = mean_squared_error(y_test, y_test_predict)\n",
    "print(\"test set에서의 성능 {0}\".format(sqrt(mse)))"
   ]
  }
 ],
 "metadata": {
  "kernelspec": {
   "display_name": "Python 3 (ipykernel)",
   "language": "python",
   "name": "python3"
  },
  "language_info": {
   "codemirror_mode": {
    "name": "ipython",
    "version": 3
   },
   "file_extension": ".py",
   "mimetype": "text/x-python",
   "name": "python",
   "nbconvert_exporter": "python",
   "pygments_lexer": "ipython3",
   "version": "3.11.3"
  }
 },
 "nbformat": 4,
 "nbformat_minor": 5
}
