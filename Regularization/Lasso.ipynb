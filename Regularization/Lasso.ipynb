{
 "cells": [
  {
   "cell_type": "code",
   "execution_count": 9,
   "id": "3a32552c",
   "metadata": {},
   "outputs": [
    {
     "name": "stdout",
     "output_type": "stream",
     "text": [
      "training set에서의 성능 0.055768128502071315\n",
      "-----------------------------------\n",
      "test set에서의 성능 0.05887833783280614\n"
     ]
    },
    {
     "name": "stderr",
     "output_type": "stream",
     "text": [
      "/Users/parkseonggeun/anaconda3/lib/python3.11/site-packages/sklearn/linear_model/_coordinate_descent.py:631: ConvergenceWarning: Objective did not converge. You might want to increase the number of iterations, check the scale of the features or consider increasing regularisation. Duality gap: 6.279e-01, tolerance: 8.297e-04\n",
      "  model = cd_fast.enet_coordinate_descent(\n"
     ]
    }
   ],
   "source": [
    "# 모델이 충분히 복잡하면 과소적합을 줄일 수 있음\n",
    "from sklearn.linear_model import Lasso\n",
    "from sklearn.model_selection import train_test_split\n",
    "from sklearn.metrics import mean_squared_error\n",
    "from sklearn.preprocessing import PolynomialFeatures\n",
    "from sklearn import preprocessing\n",
    "\n",
    "from math import sqrt\n",
    "\n",
    "import numpy as np\n",
    "import pandas as pd\n",
    "\n",
    "ADMISSION_FILE_PATH = '/Users/parkseonggeun/Desktop/admission_data.csv'\n",
    "admission_df = pd.read_csv(ADMISSION_FILE_PATH).drop('Serial No.', axis=1)\n",
    "\n",
    "admission_df.head()\n",
    "\n",
    "X = admission_df.drop(['Chance of Admit '], axis=1)\n",
    "\n",
    "polynomial_transformer = PolynomialFeatures(6)\n",
    "polynomial_features = polynomial_transformer.fit_transform(X.values)\n",
    "features = polynomial_transformer.get_feature_names_out(X.columns)\n",
    "\n",
    "X = pd.DataFrame(polynomial_features, columns = features)\n",
    "X.head()\n",
    "\n",
    "y = admission_df[['Chance of Admit ']]\n",
    "y.head()\n",
    "\n",
    "X_train, X_test, y_train, y_test = train_test_split(X,y,test_size=0.2, random_state=5)\n",
    "\n",
    "model = Lasso(alpha=0.001, max_iter=1000)\n",
    "mms = preprocessing.MinMaxScaler()\n",
    "X_train_scale = mms.fit_transform(X_train)\n",
    "model.fit(X_train, y_train)\n",
    "\n",
    "y_train_predict = model.predict(X_train)\n",
    "y_test_predict = model.predict(X_test)\n",
    "\n",
    "mse = mean_squared_error(y_train, y_train_predict)\n",
    "print(\"training set에서의 성능 {0}\".format(sqrt(mse)))\n",
    "print('-----------------------------------')\n",
    "mse = mean_squared_error(y_test, y_test_predict)\n",
    "print(\"test set에서의 성능 {0}\".format(sqrt(mse)))"
   ]
  }
 ],
 "metadata": {
  "kernelspec": {
   "display_name": "Python 3 (ipykernel)",
   "language": "python",
   "name": "python3"
  },
  "language_info": {
   "codemirror_mode": {
    "name": "ipython",
    "version": 3
   },
   "file_extension": ".py",
   "mimetype": "text/x-python",
   "name": "python",
   "nbconvert_exporter": "python",
   "pygments_lexer": "ipython3",
   "version": "3.11.3"
  }
 },
 "nbformat": 4,
 "nbformat_minor": 5
}
